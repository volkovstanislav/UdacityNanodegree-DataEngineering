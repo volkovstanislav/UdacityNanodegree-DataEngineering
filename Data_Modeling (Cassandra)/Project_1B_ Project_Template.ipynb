{
 "cells": [
  {
   "cell_type": "markdown",
   "metadata": {},
   "source": [
    "# Part I. ETL Pipeline for Pre-Processing the Files"
   ]
  },
  {
   "cell_type": "markdown",
   "metadata": {},
   "source": [
    "#### Import Python packages "
   ]
  },
  {
   "cell_type": "code",
   "execution_count": 1,
   "metadata": {},
   "outputs": [],
   "source": [
    "# Import Python packages \n",
    "import pandas as pd\n",
    "import cassandra\n",
    "import re\n",
    "import os\n",
    "import glob\n",
    "import numpy as np\n",
    "import json\n",
    "import csv"
   ]
  },
  {
   "cell_type": "markdown",
   "metadata": {},
   "source": [
    "#### Creating list of filepaths to process original event csv data files"
   ]
  },
  {
   "cell_type": "code",
   "execution_count": 2,
   "metadata": {},
   "outputs": [
    {
     "name": "stdout",
     "output_type": "stream",
     "text": [
      "Current directory:  /home/workspace\n",
      "Filepath of oroginal csv:  /home/workspace/event_data\n",
      "Event csv data files:\n",
      "/home/workspace/event_data/2018-11-18-events.csv\n",
      "/home/workspace/event_data/2018-11-02-events.csv\n",
      "/home/workspace/event_data/2018-11-03-events.csv\n",
      "/home/workspace/event_data/2018-11-13-events.csv\n",
      "/home/workspace/event_data/2018-11-14-events.csv\n",
      "/home/workspace/event_data/2018-11-10-events.csv\n",
      "/home/workspace/event_data/2018-11-22-events.csv\n",
      "/home/workspace/event_data/2018-11-30-events.csv\n",
      "/home/workspace/event_data/2018-11-17-events.csv\n",
      "/home/workspace/event_data/2018-11-05-events.csv\n",
      "/home/workspace/event_data/2018-11-23-events.csv\n",
      "/home/workspace/event_data/2018-11-12-events.csv\n",
      "/home/workspace/event_data/2018-11-29-events.csv\n",
      "/home/workspace/event_data/2018-11-08-events.csv\n",
      "/home/workspace/event_data/2018-11-19-events.csv\n",
      "/home/workspace/event_data/2018-11-28-events.csv\n",
      "/home/workspace/event_data/2018-11-26-events.csv\n",
      "/home/workspace/event_data/2018-11-04-events.csv\n",
      "/home/workspace/event_data/2018-11-16-events.csv\n",
      "/home/workspace/event_data/2018-11-24-events.csv\n",
      "/home/workspace/event_data/2018-11-15-events.csv\n",
      "/home/workspace/event_data/2018-11-01-events.csv\n",
      "/home/workspace/event_data/2018-11-07-events.csv\n",
      "/home/workspace/event_data/2018-11-21-events.csv\n",
      "/home/workspace/event_data/2018-11-11-events.csv\n",
      "/home/workspace/event_data/2018-11-06-events.csv\n",
      "/home/workspace/event_data/2018-11-25-events.csv\n",
      "/home/workspace/event_data/2018-11-09-events.csv\n",
      "/home/workspace/event_data/2018-11-20-events.csv\n",
      "/home/workspace/event_data/2018-11-27-events.csv\n"
     ]
    }
   ],
   "source": [
    "# checking your current working directory\n",
    "print(\"Current directory: \",os.getcwd())\n",
    "\n",
    "# Get your current folder and subfolder event data\n",
    "filepath = os.getcwd() + '/event_data'\n",
    "\n",
    "# Create a for loop to create a list of files and collect each filepath\n",
    "for root, dirs, files in os.walk(filepath):\n",
    "    print(\"Filepath of oroginal csv: \",root)\n",
    "    \n",
    "# join the file path and roots with the subdirectories using glob\n",
    "    file_path_list = glob.glob(os.path.join(root,'*'))\n",
    "    print(\"Event csv data files:\")\n",
    "    for file in file_path_list:\n",
    "        print(file)"
   ]
  },
  {
   "cell_type": "markdown",
   "metadata": {},
   "source": [
    "#### Processing the files to create the data file csv that will be used for Apache Casssandra tables"
   ]
  },
  {
   "cell_type": "code",
   "execution_count": 3,
   "metadata": {},
   "outputs": [
    {
     "name": "stdout",
     "output_type": "stream",
     "text": [
      "8056\n"
     ]
    }
   ],
   "source": [
    "# initiating an empty list of rows that will be generated from each file\n",
    "full_data_rows_list = [] \n",
    "\n",
    "#drop .ipynb_checkpoints\n",
    "#file_path_list = [ x for x in file_path_list if \".ipynb_checkpoints\" not in x]\n",
    "\n",
    "# for every filepath in the file path list \n",
    "for f in file_path_list:\n",
    "\n",
    "# reading csv file \n",
    "    with open(f, 'r', encoding = 'utf8', newline='') as csvfile: \n",
    "        # creating a csv reader object \n",
    "        csvreader = csv.reader(csvfile)\n",
    "        next(csvreader)\n",
    "         # extracting each data row one by one and append it        \n",
    "        for line in csvreader:\n",
    "            #print(line)\n",
    "            if line[0] == \"artist\":\n",
    "                continue\n",
    "            full_data_rows_list.append(line) \n",
    "            \n",
    "# total number of rows \n",
    "print(len(full_data_rows_list))\n",
    "\n",
    "# creating event data csv file called event_datafile_full csv that will be used to insert data into the\n",
    "# Apache Cassandra tables\n",
    "csv.register_dialect('myDialect', quoting=csv.QUOTE_ALL, skipinitialspace=True)\n",
    "\n",
    "with open('event_datafile_full.csv', 'w', encoding = 'utf8', newline='') as f:\n",
    "    writer = csv.writer(f, dialect='myDialect')\n",
    "    writer.writerow(['artist','firstName','gender','itemInSession','lastName','length',\\\n",
    "                'level','location','sessionId','song','userId'])\n",
    "    for row in full_data_rows_list:\n",
    "        if (row[0] == ''):\n",
    "            continue\n",
    "        writer.writerow((row[0], row[2], row[3], row[4], row[5], row[6], row[7], row[8], row[12], row[13], row[16]))"
   ]
  },
  {
   "cell_type": "code",
   "execution_count": 4,
   "metadata": {},
   "outputs": [
    {
     "name": "stdout",
     "output_type": "stream",
     "text": [
      "6821\n"
     ]
    }
   ],
   "source": [
    "# check the number of rows in your csv file\n",
    "with open('event_datafile_full.csv', 'r', encoding = 'utf8') as f:\n",
    "    print(sum(1 for line in f))"
   ]
  },
  {
   "cell_type": "markdown",
   "metadata": {},
   "source": [
    "# Part II. Create tables for Sparkify app\n",
    "\n",
    "## CSV file  <font color=red>event_datafile_full.csv</font> contains the following columns: \n",
    "- artist \n",
    "- firstName of user\n",
    "- gender of user\n",
    "- item number in session\n",
    "- last name of user\n",
    "- length of the song\n",
    "- level (paid or free song)\n",
    "- location of the user\n",
    "- sessionId\n",
    "- song title\n",
    "- userId\n",
    "\n",
    "The image below is a screenshot of what the denormalized data should appear like in the <font color=red>**event_datafile_full.csv**</font> after the code above is run:<br>\n",
    "\n",
    "<img src=\"images/image_event_datafile_new.jpg\">"
   ]
  },
  {
   "cell_type": "markdown",
   "metadata": {},
   "source": [
    "## Connection to a Apache Cassandra"
   ]
  },
  {
   "cell_type": "markdown",
   "metadata": {},
   "source": [
    "#### Creating a Cluster"
   ]
  },
  {
   "cell_type": "code",
   "execution_count": 5,
   "metadata": {},
   "outputs": [],
   "source": [
    "# This should make a connection to a Cassandra instance your local machine \n",
    "# (127.0.0.1)\n",
    "\n",
    "from cassandra.cluster import Cluster\n",
    "cluster = Cluster()\n",
    "\n",
    "# To establish connection and begin executing queries, need a session\n",
    "session = cluster.connect()"
   ]
  },
  {
   "cell_type": "markdown",
   "metadata": {},
   "source": [
    "#### Create Keyspace"
   ]
  },
  {
   "cell_type": "code",
   "execution_count": 6,
   "metadata": {},
   "outputs": [],
   "source": [
    "query = \"create keyspace if not exists ml with replication\"\n",
    "params = \"= {'class':'SimpleStrategy', 'replication_factor':1}; \"\n",
    "try:\n",
    "    session.execute(query+params)\n",
    "except Exception as e:\n",
    "    print(e)"
   ]
  },
  {
   "cell_type": "markdown",
   "metadata": {},
   "source": [
    "#### Set Keyspace"
   ]
  },
  {
   "cell_type": "code",
   "execution_count": 7,
   "metadata": {},
   "outputs": [],
   "source": [
    "try:\n",
    "    session.set_keyspace('ml')\n",
    "except Exception as e:\n",
    "    print(e)"
   ]
  },
  {
   "cell_type": "markdown",
   "metadata": {},
   "source": [
    "## Create tables"
   ]
  },
  {
   "cell_type": "markdown",
   "metadata": {},
   "source": [
    "#### Table **song_library**\n",
    "For the first query we create table contains the following columns:\n",
    "* <font color=red>artist</font>- <font color=blue>format **text**</font>  (*artist name*)\n",
    "* <font color=red>title</font> - <font color=blue>format **text**</font> (*song title*)\n",
    "* <font color=red>length</font> - <font color=blue>format **float**</font> (*song length*)\n",
    "* <font color=red>session_id</font> - <font color=blue>format **int**</font> (*identificator of session*)\n",
    "* <font color=red>item_in_session</font> - <font color=blue>format **int**</font> (*item in session_id*)\n",
    "\n",
    "<font color=blue>**Primary key**</font> consists of session_id and item_in_session because these columns uniquely identify records of the client session <br />\n",
    "In our case <font color=red>session_id</font> - is a **partiotion key** and <font color=red>item_in_session</font> is a **clustering key** <br />\n",
    "This table will be useful for queries about all information on the listened content for a every user session's and items."
   ]
  },
  {
   "cell_type": "code",
   "execution_count": 8,
   "metadata": {},
   "outputs": [],
   "source": [
    "query = \"create table if not exists song_in_session\"\n",
    "query = query + \"(artist text, title text, length float, session_id int, item_in_session int, \\\n",
    "                    primary key(session_id,item_in_session));\"\n",
    "try:\n",
    "    session.execute(query)\n",
    "except Exception as e:\n",
    "    print(e)"
   ]
  },
  {
   "cell_type": "markdown",
   "metadata": {},
   "source": [
    "#### Table **user_session**\n",
    "For the second query we create table contains the following columns:\n",
    "* <font color=red>artist</font>- <font color=blue>format **text**</font>  (*artist name*)\n",
    "* <font color=red>title</font> - <font color=blue>format **text**</font> (*song title*)\n",
    "* <font color=red>user_firstname</font> - <font color=blue>format **text**</font> (*user firstname*)\n",
    "* <font color=red>user_lastname</font> - <font color=blue>format **text**</font> (*user lastname*)\n",
    "* <font color=red>user_id</font> - <font color=blue>format **int**</font> (*user identification*)\n",
    "* <font color=red>session_id</font> - <font color=blue>format **int**</font> (*session identificator*)\n",
    "* <font color=red>item_in_session</font> - <font color=blue>format **text**</font> (*item in session_id*)\n",
    "\n",
    "<font color=blue>**Primary key**</font> consists of <font color=red>user_id</font> and <font color=red>session_id</font> because these columns uniquely identify records of the user session <br />\n",
    "In our case <font color=red>user_id</font> and <font color=red>session_id</font> - is a **partiotion keys** and <font color=red>item_in_session</font> is a **clustering key**, it's needed for sorting songs  <br />\n",
    "This table will be useful for queries about user information and his used content for a every user session's and items."
   ]
  },
  {
   "cell_type": "code",
   "execution_count": 9,
   "metadata": {},
   "outputs": [],
   "source": [
    "query = \"create table if not exists user_session\"\n",
    "query = query + \"(artist text, title text, user_firstname text, user_lastname text, user_id int, session_id int, item_in_session int, \\\n",
    "                    primary key((user_id, session_id),item_in_session));\"\n",
    "try:\n",
    "    session.execute(query)\n",
    "except Exception as e:\n",
    "    print(e)"
   ]
  },
  {
   "cell_type": "markdown",
   "metadata": {},
   "source": [
    "#### Table **user_songs**\n",
    "\n",
    "For the third query we create table contains the following columns:\n",
    "* <font color=red>user_id</font>- <font color=blue>format **int**</font>  (*artist name*)\n",
    "* <font color=red>user_firstname</font> - <font color=blue>format **text**</font> (*song title*)\n",
    "* <font color=red>user_lastname</font> - <font color=blue>format **text**</font> (*song length*)\n",
    "* <font color=red>title</font> - <font color=blue>format **text**</font> (*identificator of session*)\n",
    "\n",
    "<font color=blue>**Primary key**</font> consists of <font color=red>title</font> and <font color=red>user_id</font> because these columns uniquely identify records of the client activity (which music listened by user)<br />\n",
    "In our case <font color=red>title</font> - is a **partiotion key** and <font color=red>user_id</font> is a **clustering key** <br />\n",
    "This table will be useful for queries about all information on the listened content for a every user at all"
   ]
  },
  {
   "cell_type": "code",
   "execution_count": 10,
   "metadata": {},
   "outputs": [],
   "source": [
    "query = \"create table if not exists user_songs\"\n",
    "query = query + \"(title text, user_id int, user_firstname text, user_lastname text, \\\n",
    "                    primary key(title,user_id));\"\n",
    "try:\n",
    "    session.execute(query)\n",
    "except Exception as e:\n",
    "    print(e)"
   ]
  },
  {
   "cell_type": "markdown",
   "metadata": {},
   "source": [
    "## Create queries\n",
    "\n",
    "### 1. Give me the artist, song title and song's length in the music app history that was heard during  sessionId = 338, and itemInSession  = 4"
   ]
  },
  {
   "cell_type": "code",
   "execution_count": 11,
   "metadata": {
    "scrolled": false
   },
   "outputs": [],
   "source": [
    "# We have provided part of the code to set up the CSV file.\n",
    "file = 'event_datafile_full.csv'\n",
    "\n",
    "# INSERT statements from event_datafile_full.csv into song_in_session\n",
    "with open(file, encoding = 'utf8') as f:\n",
    "    csvreader = csv.reader(f)\n",
    "    next(csvreader) # skip header\n",
    "    for line in csvreader:\n",
    "        query = \"insert into song_in_session (artist, title, length, session_id, item_in_session)\"\n",
    "        query = query + \"values (%s,%s,%s,%s,%s)\"\n",
    "        session.execute(query, (line[0], line[9], float(line[5]), int(line[8]), int(line[3])))"
   ]
  },
  {
   "cell_type": "code",
   "execution_count": 12,
   "metadata": {
    "scrolled": true
   },
   "outputs": [
    {
     "name": "stdout",
     "output_type": "stream",
     "text": [
      "Regina Spektor  |  The Calculation (Album Version)  |  191.08526611328125  |  23  |  0\n",
      "Octopus Project  |  All Of The Champs That Ever Lived  |  250.95791625976562  |  23  |  1\n",
      "Tegan And Sara  |  So Jealous  |  180.06158447265625  |  23  |  2\n",
      "Dragonette  |  Okay Dolores  |  153.39056396484375  |  23  |  3\n",
      "Lil Wayne / Eminem  |  Drop The World  |  229.58975219726562  |  23  |  4\n"
     ]
    }
   ],
   "source": [
    "## SELECT top 5 statement to verify the data was entered into the table\n",
    "query = \"select artist, title, length, session_id, item_in_session from song_in_session limit 5\"\n",
    "try:\n",
    "    rows = session.execute(query)\n",
    "except Exception as e:\n",
    "    print(e)\n",
    "    \n",
    "for row in rows:\n",
    "        print (row.artist, \" | \", row.title, \" | \", row.length, \" | \", row.session_id, \" | \", row.item_in_session)"
   ]
  },
  {
   "cell_type": "code",
   "execution_count": 13,
   "metadata": {},
   "outputs": [
    {
     "name": "stdout",
     "output_type": "stream",
     "text": [
      "Faithless  |  Music Matters (Mark Knight Dub)  |  495.30731201171875\n"
     ]
    }
   ],
   "source": [
    "# query #1\n",
    "query = \"select artist, title, length from song_in_session where session_id = 338 and item_in_session = 4\"\n",
    "try:\n",
    "    rows = session.execute(query)\n",
    "except Exception as e:\n",
    "    print(e)\n",
    "\n",
    "for row in rows:\n",
    "    print(row.artist, \" | \" , row.title, \" | \", row.length)"
   ]
  },
  {
   "cell_type": "markdown",
   "metadata": {},
   "source": [
    "### 2. Give me only the following: name of artist, song (sorted by itemInSession) and user (first and last name) for userid = 10, sessionid = 182"
   ]
  },
  {
   "cell_type": "code",
   "execution_count": 14,
   "metadata": {},
   "outputs": [],
   "source": [
    "## We have provided part of the code to set up the CSV file.\n",
    "file = 'event_datafile_full.csv'\n",
    "\n",
    "# INSERT statements from event_datafile_full.csv into user_session\n",
    "with open(file, encoding = 'utf8') as f:\n",
    "    csvreader = csv.reader(f)\n",
    "    next(csvreader) # skip header\n",
    "    for line in csvreader:\n",
    "        query = \"insert into user_session (artist, title, user_firstname, user_lastname, user_id, session_id, item_in_session)\"\n",
    "        query = query + \"values (%s,%s,%s,%s,%s,%s,%s)\"\n",
    "        session.execute(query, (line[0], line[9], line[1], line[4], int(line[10]), int(line[8]), int(line[3])))                   "
   ]
  },
  {
   "cell_type": "code",
   "execution_count": 15,
   "metadata": {},
   "outputs": [
    {
     "name": "stdout",
     "output_type": "stream",
     "text": [
      "System of a Down  |  Sad Statue  |  Emily  |  Benson  |  58  |  768  |  0  | \n",
      "Ghostland Observatory  |  Stranger Lover  |  Emily  |  Benson  |  58  |  768  |  1  | \n",
      "Evergreen Terrace  |  Zero  |  Emily  |  Benson  |  58  |  768  |  2  | \n",
      "Deftones  |  Head Up (LP Version)  |  Kinsley  |  Young  |  85  |  776  |  2  | \n",
      "The Notorious B.I.G.  |  Playa Hater (Amended Version)  |  Kinsley  |  Young  |  85  |  776  |  3  | \n"
     ]
    }
   ],
   "source": [
    "# SELECT top 5 statement to verify the data was entered into the table\n",
    "query = \"select artist, title, user_firstname, user_lastname, user_id, session_id, item_in_session from user_session limit 5\"\n",
    "try:\n",
    "    rows = session.execute(query)\n",
    "except Exception as e:\n",
    "    print(e)\n",
    "    \n",
    "for row in rows:\n",
    "        print (row.artist, \" | \", row.title, \" | \", row.user_firstname, \" | \", row.user_lastname, \" | \", row.user_id,\\\n",
    "              \" | \", row.session_id, \" | \", row.item_in_session, \" | \")"
   ]
  },
  {
   "cell_type": "code",
   "execution_count": 16,
   "metadata": {},
   "outputs": [],
   "source": [
    "# query #2\n",
    "query = \"select artist, title, user_firstname, user_lastname from user_session \\\n",
    "            where user_id = 10 and session_id = 182\"\n",
    "try:\n",
    "    session.execute(query)\n",
    "except Exception as e:\n",
    "    print(e)"
   ]
  },
  {
   "cell_type": "markdown",
   "metadata": {},
   "source": [
    "### 3. Give me every user name (first and last) in my music app history who listened to the song 'All Hands Against His Own'"
   ]
  },
  {
   "cell_type": "code",
   "execution_count": 17,
   "metadata": {},
   "outputs": [],
   "source": [
    "## We have provided part of the code to set up the CSV file. Please complete the Apache Cassandra code below\n",
    "file = 'event_datafile_full.csv'\n",
    "\n",
    "# INSERT statements from event_datafile_full.csv into user_session\n",
    "with open(file, encoding = 'utf8') as f:\n",
    "    csvreader = csv.reader(f)\n",
    "    next(csvreader) # skip header\n",
    "    for line in csvreader:\n",
    "        query = \"insert into user_songs (title, user_id, user_firstname, user_lastname)\"\n",
    "        query = query + \"values (%s,%s,%s,%s)\"\n",
    "        session.execute(query, (line[9], int(line[10]), line[1], line[4]))"
   ]
  },
  {
   "cell_type": "code",
   "execution_count": 18,
   "metadata": {},
   "outputs": [
    {
     "name": "stdout",
     "output_type": "stream",
     "text": [
      "49  |  Chloe  |  Cuevas  |  Wonder What's Next\n",
      "49  |  Chloe  |  Cuevas  |  In The Dragon's Den\n",
      "44  |  Aleena  |  Kirby  |  Too Tough (1994 Digital Remaster)\n",
      "49  |  Chloe  |  Cuevas  |  Rio De Janeiro Blue (Album Version)\n",
      "15  |  Lily  |  Koch  |  My Place\n"
     ]
    }
   ],
   "source": [
    "# SELECT top 5 statement to verify the data was entered into the table\n",
    "query = \"select user_id, user_firstname, user_lastname, title from user_songs limit 5\"\n",
    "try:\n",
    "    rows = session.execute(query)\n",
    "except Exception as e:\n",
    "    print(e)\n",
    "    \n",
    "for row in rows:\n",
    "        print (row.user_id, \" | \", row.user_firstname, \" | \", row.user_lastname, \" | \", row.title)"
   ]
  },
  {
   "cell_type": "code",
   "execution_count": 19,
   "metadata": {},
   "outputs": [],
   "source": [
    "# query #3\n",
    "query = \"select user_firstname, user_lastname from user_songs where title = 'All Hands Against His Own'\"\n",
    "try:\n",
    "    session.execute(query)\n",
    "except Exception as e:\n",
    "    print(e)"
   ]
  },
  {
   "cell_type": "markdown",
   "metadata": {},
   "source": [
    "### Drop the tables before closing out the sessions"
   ]
  },
  {
   "cell_type": "code",
   "execution_count": 20,
   "metadata": {},
   "outputs": [],
   "source": [
    "tables_list = [\"song_in_session\",\"user_session\",\"user_songs\"]\n",
    "for tab in tables_list:\n",
    "    query = \"drop table \"+tab\n",
    "    try:\n",
    "        session.execute(query)\n",
    "    except Exception as e:\n",
    "        print(e)"
   ]
  },
  {
   "cell_type": "markdown",
   "metadata": {},
   "source": [
    "### Close the session and cluster connection¶"
   ]
  },
  {
   "cell_type": "code",
   "execution_count": 21,
   "metadata": {},
   "outputs": [],
   "source": [
    "session.shutdown()\n",
    "cluster.shutdown()"
   ]
  },
  {
   "cell_type": "code",
   "execution_count": null,
   "metadata": {},
   "outputs": [],
   "source": []
  }
 ],
 "metadata": {
  "kernelspec": {
   "display_name": "Python 3",
   "language": "python",
   "name": "python3"
  },
  "language_info": {
   "codemirror_mode": {
    "name": "ipython",
    "version": 3
   },
   "file_extension": ".py",
   "mimetype": "text/x-python",
   "name": "python",
   "nbconvert_exporter": "python",
   "pygments_lexer": "ipython3",
   "version": "3.6.3"
  }
 },
 "nbformat": 4,
 "nbformat_minor": 2
}
